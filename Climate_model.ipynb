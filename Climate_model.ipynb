{
 "cells": [
  {
   "cell_type": "markdown",
   "metadata": {},
   "source": [
    "##### Name:\n",
    "John Hemmer"
   ]
  },
  {
   "cell_type": "markdown",
   "metadata": {},
   "source": [
    "# Climate Model\n",
    "\n",
    "The EBM is the first model to capture latitudinal dependence; here we use it to shortwave and longwave radiation as well as potential ice latitude. What is modeled first is standard atmospheric conditions, then atmospheric conditions with a derived value of OLR based on the data that was web scraped."
   ]
  },
  {
   "cell_type": "markdown",
   "metadata": {},
   "source": [
    "## Derived equation for the one-dimensional EBM with diffusive heat transport:"
   ]
  },
  {
   "cell_type": "markdown",
   "metadata": {},
   "source": [
    "$$ C \\frac{\\partial T}{\\partial t} = (1-\\alpha) ~ Q - \\left( A + B~T \\right) + \\frac{D}{\\cos⁡\\phi } \\frac{\\partial }{\\partial \\phi} \\left(   \\cos⁡\\phi  ~ \\frac{\\partial T}{\\partial \\phi} \\right) $$\n"
   ]
  },
  {
   "cell_type": "markdown",
   "metadata": {},
   "source": [
    "The following parameter values\n",
    "give a reasonable fit to the observed annual mean temperature and energy budget:\n",
    "\n",
    "- $ A = 210 ~ \\text{W m}^{-2}$ (emission at 0$^\\circ$C)\n",
    "- $ B = 2 ~ \\text{W m}^{-2}~^\\circ\\text{C}^{-1} $ (increase in emission per degree, related to net longwave climate feedback)\n",
    "- $ D = 0.6 ~ \\text{W m}^{-2}~^\\circ\\text{C}^{-1} $ (thermal diffusivity of the climate system)"
   ]
  },
  {
   "cell_type": "markdown",
   "metadata": {},
   "source": [
    "Looked at the adjustment of this model to equilibrium, with annual mean insolation $\\overline{Q(\\phi)}$ and specified albedo $\\alpha(\\phi)$ (giving a reasonable fit to observations).\n",
    "\n",
    "Tuned the diffuvisity $D$ so that the annual mean solution has a reasonable pole-to-equator temperature gradient and peak poleward heat transport.\n",
    "\n",
    "Actually for the new version of this model with interactive ice line, the diffusivity will be reduced down to $ D = 0.55 ~ \\text{W m}^{-2}~^\\circ\\text{C}^{-1} $."
   ]
  },
  {
   "cell_type": "markdown",
   "metadata": {},
   "source": [
    "\n",
    "\n",
    "## Interactive snow/ice line in the EBM\n",
    "____________"
   ]
  },
  {
   "cell_type": "markdown",
   "metadata": {},
   "source": [
    "The idea is simply that, as the climate gets warmer, the snow and ice will retreat poleward, and the planetary albedo will decrease (or vice-versa)."
   ]
  },
  {
   "cell_type": "markdown",
   "metadata": {},
   "source": [
    "This is modeled in the zero dimensional model by using a quadratic ramp function for the global mean albedo as a function of global mean temperature. Here, since the model resolves temperature at each latitude, we want to do something more physical:"
   ]
  },
  {
   "cell_type": "markdown",
   "metadata": {},
   "source": [
    "### Temperature-dependent ice line\n",
    "\n",
    "Let the surface albedo be larger wherever the temperature is below some threshold $T_f$:\n",
    "\n",
    "$$ \\alpha\\left(\\phi, T(\\phi) \\right) = \\left\\{\\begin{array}{ccc} \n",
    "\\alpha_0 + \\alpha_2 P_2(\\sin\\phi) & ~ & T(\\phi) > T_f  & \\text{(no ice)} \\\\\n",
    "a_i & ~ & T(\\phi) \\le T_f & \\text{(ice-covered)} \\\\\n",
    "\\end{array} \\right. $$\n",
    "\n",
    "where $P_2(\\sin\\phi) = \\frac{1}{2}\\left( 3\\left(\\sin\\phi\\right)^2 - 1 \\right) $ is called the *second Legendre Polynomial* (just a mathematically convenient description of a smooth variation between the equator and pole)."
   ]
  },
  {
   "cell_type": "markdown",
   "metadata": {},
   "source": [
    "Empirically, we follow classic work by Budyko and set the threshold temperature\n",
    "\n",
    "$$ T_f = -10^\\circ\\text{C} $$"
   ]
  },
  {
   "cell_type": "markdown",
   "metadata": {},
   "source": [
    "This is known as a \"step function\" formula, because the value of $\\alpha$ steps or jumps up to a higher value as we cross the ice line."
   ]
  },
  {
   "cell_type": "markdown",
   "metadata": {},
   "source": [
    "\n",
    "\n",
    "## Solving the EBM with variable snow/ice line in CLIMLAB"
   ]
  },
  {
   "cell_type": "code",
   "execution_count": 2,
   "metadata": {
    "tags": []
   },
   "outputs": [
    {
     "name": "stdout",
     "output_type": "stream",
     "text": [
      "Requirement already satisfied: climlab in /Users/john/anaconda3/lib/python3.11/site-packages (0.8.2)\n",
      "Requirement already satisfied: numpy in /Users/john/anaconda3/lib/python3.11/site-packages (from climlab) (1.24.3)\n",
      "Requirement already satisfied: xarray in /Users/john/anaconda3/lib/python3.11/site-packages (from climlab) (2023.6.0)\n",
      "Requirement already satisfied: scipy in /Users/john/anaconda3/lib/python3.11/site-packages (from climlab) (1.11.1)\n",
      "Requirement already satisfied: pandas>=1.4 in /Users/john/anaconda3/lib/python3.11/site-packages (from xarray->climlab) (2.0.3)\n",
      "Requirement already satisfied: packaging>=21.3 in /Users/john/anaconda3/lib/python3.11/site-packages (from xarray->climlab) (23.1)\n",
      "Requirement already satisfied: python-dateutil>=2.8.2 in /Users/john/anaconda3/lib/python3.11/site-packages (from pandas>=1.4->xarray->climlab) (2.8.2)\n",
      "Requirement already satisfied: pytz>=2020.1 in /Users/john/anaconda3/lib/python3.11/site-packages (from pandas>=1.4->xarray->climlab) (2023.3.post1)\n",
      "Requirement already satisfied: tzdata>=2022.1 in /Users/john/anaconda3/lib/python3.11/site-packages (from pandas>=1.4->xarray->climlab) (2023.3)\n",
      "Requirement already satisfied: six>=1.5 in /Users/john/anaconda3/lib/python3.11/site-packages (from python-dateutil>=2.8.2->pandas>=1.4->xarray->climlab) (1.16.0)\n",
      "Note: you may need to restart the kernel to use updated packages.\n"
     ]
    }
   ],
   "source": [
    "pip install climlab"
   ]
  },
  {
   "cell_type": "code",
   "execution_count": 3,
   "metadata": {
    "tags": []
   },
   "outputs": [
    {
     "name": "stdout",
     "output_type": "stream",
     "text": [
      "Requirement already satisfied: pooch in /Users/john/anaconda3/lib/python3.11/site-packages (1.8.0)\n",
      "Requirement already satisfied: platformdirs>=2.5.0 in /Users/john/anaconda3/lib/python3.11/site-packages (from pooch) (3.10.0)\n",
      "Requirement already satisfied: packaging>=20.0 in /Users/john/anaconda3/lib/python3.11/site-packages (from pooch) (23.1)\n",
      "Requirement already satisfied: requests>=2.19.0 in /Users/john/anaconda3/lib/python3.11/site-packages (from pooch) (2.31.0)\n",
      "Requirement already satisfied: charset-normalizer<4,>=2 in /Users/john/anaconda3/lib/python3.11/site-packages (from requests>=2.19.0->pooch) (2.0.4)\n",
      "Requirement already satisfied: idna<4,>=2.5 in /Users/john/anaconda3/lib/python3.11/site-packages (from requests>=2.19.0->pooch) (3.4)\n",
      "Requirement already satisfied: urllib3<3,>=1.21.1 in /Users/john/anaconda3/lib/python3.11/site-packages (from requests>=2.19.0->pooch) (1.26.16)\n",
      "Requirement already satisfied: certifi>=2017.4.17 in /Users/john/anaconda3/lib/python3.11/site-packages (from requests>=2.19.0->pooch) (2023.11.17)\n",
      "Note: you may need to restart the kernel to use updated packages.\n"
     ]
    }
   ],
   "source": [
    "pip install pooch"
   ]
  },
  {
   "cell_type": "code",
   "execution_count": 4,
   "metadata": {
    "tags": []
   },
   "outputs": [
    {
     "name": "stderr",
     "output_type": "stream",
     "text": [
      "/Users/john/anaconda3/lib/python3.11/site-packages/climlab/radiation/cam3.py:46: UserWarning: Cannot import and initialize compiled Fortran extension, CAM3 module will not be functional.\n",
      "  warnings.warn('Cannot import and initialize compiled Fortran extension, CAM3 module will not be functional.')\n",
      "/Users/john/anaconda3/lib/python3.11/site-packages/climlab/radiation/rrtm/rrtmg_lw.py:19: UserWarning: Cannot import and initialize compiled Fortran extension, RRTMG_LW module will not be functional.\n",
      "  warnings.warn('Cannot import and initialize compiled Fortran extension, RRTMG_LW module will not be functional.')\n",
      "/Users/john/anaconda3/lib/python3.11/site-packages/climlab/radiation/rrtm/rrtmg_sw.py:19: UserWarning: Cannot import and initialize compiled Fortran extension, RRTMG_SW module will not be functional.\n",
      "  warnings.warn('Cannot import and initialize compiled Fortran extension, RRTMG_SW module will not be functional.')\n",
      "/Users/john/anaconda3/lib/python3.11/site-packages/climlab/convection/akmaev_adjustment.py:142: NumbaDeprecationWarning: \u001b[1mThe 'nopython' keyword argument was not supplied to the 'numba.jit' decorator. The implicit default value for this argument is currently False, but it will be changed to True in Numba 0.59.0. See https://numba.readthedocs.io/en/stable/reference/deprecation.html#deprecation-of-object-mode-fall-back-behaviour-when-using-jit for details.\u001b[0m\n",
      "  Akmaev_adjustment = jit(signature_or_function=Akmaev_adjustment)\n",
      "/Users/john/anaconda3/lib/python3.11/site-packages/climlab/convection/emanuel_convection.py:14: UserWarning: Cannot import EmanuelConvection fortran extension, this module will not be functional.\n",
      "  warnings.warn('Cannot import EmanuelConvection fortran extension, this module will not be functional.')\n"
     ]
    }
   ],
   "source": [
    "import numpy as np\n",
    "import matplotlib.pyplot as plt\n",
    "import climlab\n",
    "from climlab import constants as const"
   ]
  },
  {
   "cell_type": "code",
   "execution_count": 5,
   "metadata": {
    "tags": []
   },
   "outputs": [
    {
     "name": "stdout",
     "output_type": "stream",
     "text": [
      "climlab Process of type <class 'climlab.model.ebm.EBM_annual'>. \n",
      "State variables and domain shapes: \n",
      "  Ts: (180, 1) \n",
      "The subprocess tree: \n",
      "EBM with interactive ice line: <class 'climlab.model.ebm.EBM_annual'>\n",
      "   LW: <class 'climlab.radiation.aplusbt.AplusBT'>\n",
      "   insolation: <class 'climlab.radiation.insolation.AnnualMeanInsolation'>\n",
      "   albedo: <class 'climlab.surface.albedo.StepFunctionAlbedo'>\n",
      "      iceline: <class 'climlab.surface.albedo.Iceline'>\n",
      "      warm_albedo: <class 'climlab.surface.albedo.P2Albedo'>\n",
      "      cold_albedo: <class 'climlab.surface.albedo.ConstantAlbedo'>\n",
      "   SW: <class 'climlab.radiation.absorbed_shorwave.SimpleAbsorbedShortwave'>\n",
      "   diffusion: <class 'climlab.dynamics.meridional_heat_diffusion.MeridionalHeatDiffusion'>\n",
      "\n"
     ]
    }
   ],
   "source": [
    "#  for convenience, set up a dictionary with our default parameters\n",
    "param = {'D':0.55, 'A':210, 'B':2, 'a0':0.3, 'a2':0.078, 'ai':0.62, 'Tf':-10.}\n",
    "model1 = climlab.EBM_annual(name='EBM with interactive ice line',\n",
    "                            num_lat=180, \n",
    "                            D=0.55, \n",
    "                            A=210., \n",
    "                            B=2., \n",
    "                            Tf=-10., \n",
    "                            a0=0.3, \n",
    "                            a2=0.078, \n",
    "                            ai=0.62)\n",
    "print(model1)"
   ]
  },
  {
   "cell_type": "markdown",
   "metadata": {},
   "source": [
    "Because the parameter `ai` was provided for the icy albedo, the model now contains several sub-processes contained within the process called `albedo`. Together these implement the step-function formula above.\n",
    "\n",
    "The process called `iceline` simply looks for grid cells with temperature below $T_f$."
   ]
  },
  {
   "cell_type": "code",
   "execution_count": 6,
   "metadata": {
    "tags": []
   },
   "outputs": [
    {
     "name": "stdout",
     "output_type": "stream",
     "text": [
      "{'timestep': 350632.51200000005, 'S0': 1365.2, 's2': -0.48, 'A': 210.0, 'B': 2.0, 'D': 0.55, 'Tf': -10.0, 'water_depth': 10.0, 'a0': 0.3, 'a2': 0.078, 'ai': 0.62}\n"
     ]
    }
   ],
   "source": [
    "print(model1.param)"
   ]
  },
  {
   "cell_type": "code",
   "execution_count": 7,
   "metadata": {
    "tags": []
   },
   "outputs": [
    {
     "name": "stdout",
     "output_type": "stream",
     "text": [
      "climlab Process of type <class 'climlab.model.ebm.EBM_annual'>. \n",
      "State variables and domain shapes: \n",
      "  Ts: (180, 1) \n",
      "The subprocess tree: \n",
      "EBM with interactive ice line: <class 'climlab.model.ebm.EBM_annual'>\n",
      "   LW: <class 'climlab.radiation.aplusbt.AplusBT'>\n",
      "   insolation: <class 'climlab.radiation.insolation.AnnualMeanInsolation'>\n",
      "   albedo: <class 'climlab.surface.albedo.StepFunctionAlbedo'>\n",
      "      iceline: <class 'climlab.surface.albedo.Iceline'>\n",
      "      warm_albedo: <class 'climlab.surface.albedo.P2Albedo'>\n",
      "      cold_albedo: <class 'climlab.surface.albedo.ConstantAlbedo'>\n",
      "   SW: <class 'climlab.radiation.absorbed_shorwave.SimpleAbsorbedShortwave'>\n",
      "   diffusion: <class 'climlab.dynamics.meridional_heat_diffusion.MeridionalHeatDiffusion'>\n",
      "\n"
     ]
    }
   ],
   "source": [
    "model1 = climlab.EBM_annual(name='EBM with interactive ice line',\n",
    "                            num_lat=180,\n",
    "                            **param)\n",
    "print(model1)"
   ]
  },
  {
   "cell_type": "code",
   "execution_count": 8,
   "metadata": {
    "tags": []
   },
   "outputs": [],
   "source": [
    "def ebm_plot(e, return_fig=False):    \n",
    "    templimits = -60,32\n",
    "    radlimits = -340, 340\n",
    "    htlimits = -6,6\n",
    "    latlimits = -90,90\n",
    "    lat_ticks = np.arange(-90,90,30)\n",
    " \n",
    "    with plt.style.context('seaborn-whitegrid'):\n",
    "        fig = plt.figure(figsize=(8,10))\n",
    "\n",
    "        ax1 = fig.add_subplot(3,1,1)\n",
    "        ax1.plot(e.lat, e.Ts)\n",
    "        ax1.set_ylim(templimits)\n",
    "        ax1.set_ylabel('Temperature (deg C)')\n",
    "\n",
    "        ax2 = fig.add_subplot(3,1,2)\n",
    "        ax2.plot(e.lat, e.ASR, 'k--', label='SW' )\n",
    "        ax2.plot(e.lat, -e.OLR, 'r--', label='LW' )\n",
    "        ax2.plot(e.lat, e.net_radiation, 'c-', label='net rad' )\n",
    "        ax2.plot(e.lat, e.heat_transport_convergence, 'g--', label='dyn' )\n",
    "        ax2.plot(e.lat, e.net_radiation + e.heat_transport_convergence, 'b-', label='total' )\n",
    "        ax2.set_ylim(radlimits)\n",
    "        ax2.set_ylabel('Energy budget (W m$^{-2}$)')\n",
    "        ax2.legend(bbox_to_anchor=(1.1, .5))\n",
    "\n",
    "        ax3 = fig.add_subplot(3,1,3)\n",
    "        ax3.plot(e.lat_bounds, e.heat_transport )\n",
    "        ax3.set_ylim(htlimits)\n",
    "        ax3.set_ylabel('Heat transport (PW)')\n",
    "\n",
    "        for ax in [ax1, ax2, ax3]:\n",
    "            ax.set_xlabel('Latitude $\\phi$ ')\n",
    "            ax.set_xlim(latlimits)\n",
    "            ax.set_xticks(lat_ticks)\n",
    "    \n",
    "    if return_fig:\n",
    "        return fig, ax1, ax2, ax3"
   ]
  },
  {
   "cell_type": "code",
   "execution_count": 9,
   "metadata": {
    "tags": []
   },
   "outputs": [
    {
     "name": "stdout",
     "output_type": "stream",
     "text": [
      "Integrating for 450 steps, 1826.2110000000002 days, or 5 years.\n",
      "Total elapsed time is 5.000000000000044 years.\n"
     ]
    }
   ],
   "source": [
    "model1.integrate_years(5)"
   ]
  },
  {
   "cell_type": "markdown",
   "metadata": {},
   "source": [
    "Diagnostics in this model are mostly on the latitude axis, e.g.:"
   ]
  },
  {
   "cell_type": "code",
   "execution_count": 10,
   "metadata": {
    "tags": []
   },
   "outputs": [
    {
     "data": {
      "text/html": [
       "<div><svg style=\"position: absolute; width: 0; height: 0; overflow: hidden\">\n",
       "<defs>\n",
       "<symbol id=\"icon-database\" viewBox=\"0 0 32 32\">\n",
       "<path d=\"M16 0c-8.837 0-16 2.239-16 5v4c0 2.761 7.163 5 16 5s16-2.239 16-5v-4c0-2.761-7.163-5-16-5z\"></path>\n",
       "<path d=\"M16 17c-8.837 0-16-2.239-16-5v6c0 2.761 7.163 5 16 5s16-2.239 16-5v-6c0 2.761-7.163 5-16 5z\"></path>\n",
       "<path d=\"M16 26c-8.837 0-16-2.239-16-5v6c0 2.761 7.163 5 16 5s16-2.239 16-5v-6c0 2.761-7.163 5-16 5z\"></path>\n",
       "</symbol>\n",
       "<symbol id=\"icon-file-text2\" viewBox=\"0 0 32 32\">\n",
       "<path d=\"M28.681 7.159c-0.694-0.947-1.662-2.053-2.724-3.116s-2.169-2.030-3.116-2.724c-1.612-1.182-2.393-1.319-2.841-1.319h-15.5c-1.378 0-2.5 1.121-2.5 2.5v27c0 1.378 1.122 2.5 2.5 2.5h23c1.378 0 2.5-1.122 2.5-2.5v-19.5c0-0.448-0.137-1.23-1.319-2.841zM24.543 5.457c0.959 0.959 1.712 1.825 2.268 2.543h-4.811v-4.811c0.718 0.556 1.584 1.309 2.543 2.268zM28 29.5c0 0.271-0.229 0.5-0.5 0.5h-23c-0.271 0-0.5-0.229-0.5-0.5v-27c0-0.271 0.229-0.5 0.5-0.5 0 0 15.499-0 15.5 0v7c0 0.552 0.448 1 1 1h7v19.5z\"></path>\n",
       "<path d=\"M23 26h-14c-0.552 0-1-0.448-1-1s0.448-1 1-1h14c0.552 0 1 0.448 1 1s-0.448 1-1 1z\"></path>\n",
       "<path d=\"M23 22h-14c-0.552 0-1-0.448-1-1s0.448-1 1-1h14c0.552 0 1 0.448 1 1s-0.448 1-1 1z\"></path>\n",
       "<path d=\"M23 18h-14c-0.552 0-1-0.448-1-1s0.448-1 1-1h14c0.552 0 1 0.448 1 1s-0.448 1-1 1z\"></path>\n",
       "</symbol>\n",
       "</defs>\n",
       "</svg>\n",
       "<style>/* CSS stylesheet for displaying xarray objects in jupyterlab.\n",
       " *\n",
       " */\n",
       "\n",
       ":root {\n",
       "  --xr-font-color0: var(--jp-content-font-color0, rgba(0, 0, 0, 1));\n",
       "  --xr-font-color2: var(--jp-content-font-color2, rgba(0, 0, 0, 0.54));\n",
       "  --xr-font-color3: var(--jp-content-font-color3, rgba(0, 0, 0, 0.38));\n",
       "  --xr-border-color: var(--jp-border-color2, #e0e0e0);\n",
       "  --xr-disabled-color: var(--jp-layout-color3, #bdbdbd);\n",
       "  --xr-background-color: var(--jp-layout-color0, white);\n",
       "  --xr-background-color-row-even: var(--jp-layout-color1, white);\n",
       "  --xr-background-color-row-odd: var(--jp-layout-color2, #eeeeee);\n",
       "}\n",
       "\n",
       "html[theme=dark],\n",
       "body[data-theme=dark],\n",
       "body.vscode-dark {\n",
       "  --xr-font-color0: rgba(255, 255, 255, 1);\n",
       "  --xr-font-color2: rgba(255, 255, 255, 0.54);\n",
       "  --xr-font-color3: rgba(255, 255, 255, 0.38);\n",
       "  --xr-border-color: #1F1F1F;\n",
       "  --xr-disabled-color: #515151;\n",
       "  --xr-background-color: #111111;\n",
       "  --xr-background-color-row-even: #111111;\n",
       "  --xr-background-color-row-odd: #313131;\n",
       "}\n",
       "\n",
       ".xr-wrap {\n",
       "  display: block !important;\n",
       "  min-width: 300px;\n",
       "  max-width: 700px;\n",
       "}\n",
       "\n",
       ".xr-text-repr-fallback {\n",
       "  /* fallback to plain text repr when CSS is not injected (untrusted notebook) */\n",
       "  display: none;\n",
       "}\n",
       "\n",
       ".xr-header {\n",
       "  padding-top: 6px;\n",
       "  padding-bottom: 6px;\n",
       "  margin-bottom: 4px;\n",
       "  border-bottom: solid 1px var(--xr-border-color);\n",
       "}\n",
       "\n",
       ".xr-header > div,\n",
       ".xr-header > ul {\n",
       "  display: inline;\n",
       "  margin-top: 0;\n",
       "  margin-bottom: 0;\n",
       "}\n",
       "\n",
       ".xr-obj-type,\n",
       ".xr-array-name {\n",
       "  margin-left: 2px;\n",
       "  margin-right: 10px;\n",
       "}\n",
       "\n",
       ".xr-obj-type {\n",
       "  color: var(--xr-font-color2);\n",
       "}\n",
       "\n",
       ".xr-sections {\n",
       "  padding-left: 0 !important;\n",
       "  display: grid;\n",
       "  grid-template-columns: 150px auto auto 1fr 20px 20px;\n",
       "}\n",
       "\n",
       ".xr-section-item {\n",
       "  display: contents;\n",
       "}\n",
       "\n",
       ".xr-section-item input {\n",
       "  display: none;\n",
       "}\n",
       "\n",
       ".xr-section-item input + label {\n",
       "  color: var(--xr-disabled-color);\n",
       "}\n",
       "\n",
       ".xr-section-item input:enabled + label {\n",
       "  cursor: pointer;\n",
       "  color: var(--xr-font-color2);\n",
       "}\n",
       "\n",
       ".xr-section-item input:enabled + label:hover {\n",
       "  color: var(--xr-font-color0);\n",
       "}\n",
       "\n",
       ".xr-section-summary {\n",
       "  grid-column: 1;\n",
       "  color: var(--xr-font-color2);\n",
       "  font-weight: 500;\n",
       "}\n",
       "\n",
       ".xr-section-summary > span {\n",
       "  display: inline-block;\n",
       "  padding-left: 0.5em;\n",
       "}\n",
       "\n",
       ".xr-section-summary-in:disabled + label {\n",
       "  color: var(--xr-font-color2);\n",
       "}\n",
       "\n",
       ".xr-section-summary-in + label:before {\n",
       "  display: inline-block;\n",
       "  content: '►';\n",
       "  font-size: 11px;\n",
       "  width: 15px;\n",
       "  text-align: center;\n",
       "}\n",
       "\n",
       ".xr-section-summary-in:disabled + label:before {\n",
       "  color: var(--xr-disabled-color);\n",
       "}\n",
       "\n",
       ".xr-section-summary-in:checked + label:before {\n",
       "  content: '▼';\n",
       "}\n",
       "\n",
       ".xr-section-summary-in:checked + label > span {\n",
       "  display: none;\n",
       "}\n",
       "\n",
       ".xr-section-summary,\n",
       ".xr-section-inline-details {\n",
       "  padding-top: 4px;\n",
       "  padding-bottom: 4px;\n",
       "}\n",
       "\n",
       ".xr-section-inline-details {\n",
       "  grid-column: 2 / -1;\n",
       "}\n",
       "\n",
       ".xr-section-details {\n",
       "  display: none;\n",
       "  grid-column: 1 / -1;\n",
       "  margin-bottom: 5px;\n",
       "}\n",
       "\n",
       ".xr-section-summary-in:checked ~ .xr-section-details {\n",
       "  display: contents;\n",
       "}\n",
       "\n",
       ".xr-array-wrap {\n",
       "  grid-column: 1 / -1;\n",
       "  display: grid;\n",
       "  grid-template-columns: 20px auto;\n",
       "}\n",
       "\n",
       ".xr-array-wrap > label {\n",
       "  grid-column: 1;\n",
       "  vertical-align: top;\n",
       "}\n",
       "\n",
       ".xr-preview {\n",
       "  color: var(--xr-font-color3);\n",
       "}\n",
       "\n",
       ".xr-array-preview,\n",
       ".xr-array-data {\n",
       "  padding: 0 5px !important;\n",
       "  grid-column: 2;\n",
       "}\n",
       "\n",
       ".xr-array-data,\n",
       ".xr-array-in:checked ~ .xr-array-preview {\n",
       "  display: none;\n",
       "}\n",
       "\n",
       ".xr-array-in:checked ~ .xr-array-data,\n",
       ".xr-array-preview {\n",
       "  display: inline-block;\n",
       "}\n",
       "\n",
       ".xr-dim-list {\n",
       "  display: inline-block !important;\n",
       "  list-style: none;\n",
       "  padding: 0 !important;\n",
       "  margin: 0;\n",
       "}\n",
       "\n",
       ".xr-dim-list li {\n",
       "  display: inline-block;\n",
       "  padding: 0;\n",
       "  margin: 0;\n",
       "}\n",
       "\n",
       ".xr-dim-list:before {\n",
       "  content: '(';\n",
       "}\n",
       "\n",
       ".xr-dim-list:after {\n",
       "  content: ')';\n",
       "}\n",
       "\n",
       ".xr-dim-list li:not(:last-child):after {\n",
       "  content: ',';\n",
       "  padding-right: 5px;\n",
       "}\n",
       "\n",
       ".xr-has-index {\n",
       "  font-weight: bold;\n",
       "}\n",
       "\n",
       ".xr-var-list,\n",
       ".xr-var-item {\n",
       "  display: contents;\n",
       "}\n",
       "\n",
       ".xr-var-item > div,\n",
       ".xr-var-item label,\n",
       ".xr-var-item > .xr-var-name span {\n",
       "  background-color: var(--xr-background-color-row-even);\n",
       "  margin-bottom: 0;\n",
       "}\n",
       "\n",
       ".xr-var-item > .xr-var-name:hover span {\n",
       "  padding-right: 5px;\n",
       "}\n",
       "\n",
       ".xr-var-list > li:nth-child(odd) > div,\n",
       ".xr-var-list > li:nth-child(odd) > label,\n",
       ".xr-var-list > li:nth-child(odd) > .xr-var-name span {\n",
       "  background-color: var(--xr-background-color-row-odd);\n",
       "}\n",
       "\n",
       ".xr-var-name {\n",
       "  grid-column: 1;\n",
       "}\n",
       "\n",
       ".xr-var-dims {\n",
       "  grid-column: 2;\n",
       "}\n",
       "\n",
       ".xr-var-dtype {\n",
       "  grid-column: 3;\n",
       "  text-align: right;\n",
       "  color: var(--xr-font-color2);\n",
       "}\n",
       "\n",
       ".xr-var-preview {\n",
       "  grid-column: 4;\n",
       "}\n",
       "\n",
       ".xr-index-preview {\n",
       "  grid-column: 2 / 5;\n",
       "  color: var(--xr-font-color2);\n",
       "}\n",
       "\n",
       ".xr-var-name,\n",
       ".xr-var-dims,\n",
       ".xr-var-dtype,\n",
       ".xr-preview,\n",
       ".xr-attrs dt {\n",
       "  white-space: nowrap;\n",
       "  overflow: hidden;\n",
       "  text-overflow: ellipsis;\n",
       "  padding-right: 10px;\n",
       "}\n",
       "\n",
       ".xr-var-name:hover,\n",
       ".xr-var-dims:hover,\n",
       ".xr-var-dtype:hover,\n",
       ".xr-attrs dt:hover {\n",
       "  overflow: visible;\n",
       "  width: auto;\n",
       "  z-index: 1;\n",
       "}\n",
       "\n",
       ".xr-var-attrs,\n",
       ".xr-var-data,\n",
       ".xr-index-data {\n",
       "  display: none;\n",
       "  background-color: var(--xr-background-color) !important;\n",
       "  padding-bottom: 5px !important;\n",
       "}\n",
       "\n",
       ".xr-var-attrs-in:checked ~ .xr-var-attrs,\n",
       ".xr-var-data-in:checked ~ .xr-var-data,\n",
       ".xr-index-data-in:checked ~ .xr-index-data {\n",
       "  display: block;\n",
       "}\n",
       "\n",
       ".xr-var-data > table {\n",
       "  float: right;\n",
       "}\n",
       "\n",
       ".xr-var-name span,\n",
       ".xr-var-data,\n",
       ".xr-index-name div,\n",
       ".xr-index-data,\n",
       ".xr-attrs {\n",
       "  padding-left: 25px !important;\n",
       "}\n",
       "\n",
       ".xr-attrs,\n",
       ".xr-var-attrs,\n",
       ".xr-var-data,\n",
       ".xr-index-data {\n",
       "  grid-column: 1 / -1;\n",
       "}\n",
       "\n",
       "dl.xr-attrs {\n",
       "  padding: 0;\n",
       "  margin: 0;\n",
       "  display: grid;\n",
       "  grid-template-columns: 125px auto;\n",
       "}\n",
       "\n",
       ".xr-attrs dt,\n",
       ".xr-attrs dd {\n",
       "  padding: 0;\n",
       "  margin: 0;\n",
       "  float: left;\n",
       "  padding-right: 10px;\n",
       "  width: auto;\n",
       "}\n",
       "\n",
       ".xr-attrs dt {\n",
       "  font-weight: normal;\n",
       "  grid-column: 1;\n",
       "}\n",
       "\n",
       ".xr-attrs dt:hover span {\n",
       "  display: inline-block;\n",
       "  background: var(--xr-background-color);\n",
       "  padding-right: 10px;\n",
       "}\n",
       "\n",
       ".xr-attrs dd {\n",
       "  grid-column: 2;\n",
       "  white-space: pre-wrap;\n",
       "  word-break: break-all;\n",
       "}\n",
       "\n",
       ".xr-icon-database,\n",
       ".xr-icon-file-text2,\n",
       ".xr-no-icon {\n",
       "  display: inline-block;\n",
       "  vertical-align: middle;\n",
       "  width: 1em;\n",
       "  height: 1.5em !important;\n",
       "  stroke-width: 0;\n",
       "  stroke: currentColor;\n",
       "  fill: currentColor;\n",
       "}\n",
       "</style><pre class='xr-text-repr-fallback'>&lt;xarray.DataArray (depth: 1, lat: 180)&gt;\n",
       "array([[ 65.71797533,  65.76244815,  65.84761904,  65.97923937,\n",
       "         66.15142104,  66.36917776,  66.63263704,  66.93823592,\n",
       "         67.2910667 ,  67.69112601,  68.13642192,  68.63061992,\n",
       "         69.17502064,  69.76984994,  70.41686003,  71.11806553,\n",
       "         71.8766754 ,  72.69521702,  73.57685571,  74.52622406,\n",
       "        126.5151735 , 128.64225662, 130.94704321, 133.4799311 ,\n",
       "        136.31700247, 139.35073236, 142.52593606, 145.81221046,\n",
       "        149.18851573, 152.63894184, 156.15081983, 159.71369723,\n",
       "        163.31871561, 166.9582033 , 170.62539457, 174.3142284 ,\n",
       "        178.01919988, 181.73524799, 185.45766933, 189.1820507 ,\n",
       "        192.90421597, 196.62018373, 200.32613334, 204.01837763,\n",
       "        207.69334083, 211.3475408 , 214.97757473, 218.58010762,\n",
       "        222.15186324, 225.68961698, 229.19019037, 232.6504471 ,\n",
       "        236.06729007, 239.43765961, 242.75853253, 246.02692181,\n",
       "        249.23987716, 252.39448586, 255.48787433, 258.51720991,\n",
       "        261.47970311, 264.37261007, 267.19323534, 269.93893481,\n",
       "        272.60711881, 275.19525537, 277.70087357, 280.12156692,\n",
       "        282.45499686, 284.69889616, 286.8510725 , 288.9094118 ,\n",
       "        290.87188171, 292.73653488, 294.50151227, 296.16504627,\n",
       "        297.72546377, 299.18118908, 300.5307467 , 301.77276399,\n",
       "...\n",
       "        301.77276406, 300.53074678, 299.18118916, 297.72546386,\n",
       "        296.16504637, 294.50151238, 292.73653499, 290.87188183,\n",
       "        288.90941193, 286.85107263, 284.6988963 , 282.454997  ,\n",
       "        280.12156707, 277.70087372, 275.19525553, 272.60711897,\n",
       "        269.93893498, 267.19323552, 264.37261025, 261.4797033 ,\n",
       "        258.51721011, 255.48787453, 252.39448606, 249.23987736,\n",
       "        246.02692203, 242.75853274, 239.43765984, 236.06729029,\n",
       "        232.65044733, 229.19019061, 225.68961722, 222.15186349,\n",
       "        218.58010787, 214.97757498, 211.34754106, 207.69334109,\n",
       "        204.01837789, 200.32613361, 196.620184  , 192.90421625,\n",
       "        189.18205098, 185.45766961, 181.73524828, 178.01920017,\n",
       "        174.31422869, 170.62539486, 166.95820359, 163.31871591,\n",
       "        159.71369753, 156.15082013, 152.63894214, 149.18851604,\n",
       "        145.81221077, 142.52593637, 139.35073267, 136.31700278,\n",
       "        133.47993141, 130.94704352, 128.64225694, 126.51517382,\n",
       "         74.52622425,  73.57685591,  72.69521721,  71.87667559,\n",
       "         71.11806573,  70.41686023,  69.76985014,  69.17502084,\n",
       "         68.63062012,  68.13642212,  67.69112621,  67.2910669 ,\n",
       "         66.93823612,  66.63263724,  66.36917797,  66.15142124,\n",
       "         65.97923958,  65.84761924,  65.76244835,  65.71797553]])\n",
       "Coordinates:\n",
       "  * depth    (depth) float64 5.0\n",
       "  * lat      (lat) float64 -89.5 -88.5 -87.5 -86.5 -85.5 ... 86.5 87.5 88.5 89.5</pre><div class='xr-wrap' style='display:none'><div class='xr-header'><div class='xr-obj-type'>xarray.DataArray</div><div class='xr-array-name'></div><ul class='xr-dim-list'><li><span class='xr-has-index'>depth</span>: 1</li><li><span class='xr-has-index'>lat</span>: 180</li></ul></div><ul class='xr-sections'><li class='xr-section-item'><div class='xr-array-wrap'><input id='section-adca509f-9f1d-48b2-9877-19be0fa0193c' class='xr-array-in' type='checkbox' checked><label for='section-adca509f-9f1d-48b2-9877-19be0fa0193c' title='Show/hide data repr'><svg class='icon xr-icon-database'><use xlink:href='#icon-database'></use></svg></label><div class='xr-array-preview xr-preview'><span>65.72 65.76 65.85 65.98 66.15 66.37 ... 66.15 65.98 65.85 65.76 65.72</span></div><div class='xr-array-data'><pre>array([[ 65.71797533,  65.76244815,  65.84761904,  65.97923937,\n",
       "         66.15142104,  66.36917776,  66.63263704,  66.93823592,\n",
       "         67.2910667 ,  67.69112601,  68.13642192,  68.63061992,\n",
       "         69.17502064,  69.76984994,  70.41686003,  71.11806553,\n",
       "         71.8766754 ,  72.69521702,  73.57685571,  74.52622406,\n",
       "        126.5151735 , 128.64225662, 130.94704321, 133.4799311 ,\n",
       "        136.31700247, 139.35073236, 142.52593606, 145.81221046,\n",
       "        149.18851573, 152.63894184, 156.15081983, 159.71369723,\n",
       "        163.31871561, 166.9582033 , 170.62539457, 174.3142284 ,\n",
       "        178.01919988, 181.73524799, 185.45766933, 189.1820507 ,\n",
       "        192.90421597, 196.62018373, 200.32613334, 204.01837763,\n",
       "        207.69334083, 211.3475408 , 214.97757473, 218.58010762,\n",
       "        222.15186324, 225.68961698, 229.19019037, 232.6504471 ,\n",
       "        236.06729007, 239.43765961, 242.75853253, 246.02692181,\n",
       "        249.23987716, 252.39448586, 255.48787433, 258.51720991,\n",
       "        261.47970311, 264.37261007, 267.19323534, 269.93893481,\n",
       "        272.60711881, 275.19525537, 277.70087357, 280.12156692,\n",
       "        282.45499686, 284.69889616, 286.8510725 , 288.9094118 ,\n",
       "        290.87188171, 292.73653488, 294.50151227, 296.16504627,\n",
       "        297.72546377, 299.18118908, 300.5307467 , 301.77276399,\n",
       "...\n",
       "        301.77276406, 300.53074678, 299.18118916, 297.72546386,\n",
       "        296.16504637, 294.50151238, 292.73653499, 290.87188183,\n",
       "        288.90941193, 286.85107263, 284.6988963 , 282.454997  ,\n",
       "        280.12156707, 277.70087372, 275.19525553, 272.60711897,\n",
       "        269.93893498, 267.19323552, 264.37261025, 261.4797033 ,\n",
       "        258.51721011, 255.48787453, 252.39448606, 249.23987736,\n",
       "        246.02692203, 242.75853274, 239.43765984, 236.06729029,\n",
       "        232.65044733, 229.19019061, 225.68961722, 222.15186349,\n",
       "        218.58010787, 214.97757498, 211.34754106, 207.69334109,\n",
       "        204.01837789, 200.32613361, 196.620184  , 192.90421625,\n",
       "        189.18205098, 185.45766961, 181.73524828, 178.01920017,\n",
       "        174.31422869, 170.62539486, 166.95820359, 163.31871591,\n",
       "        159.71369753, 156.15082013, 152.63894214, 149.18851604,\n",
       "        145.81221077, 142.52593637, 139.35073267, 136.31700278,\n",
       "        133.47993141, 130.94704352, 128.64225694, 126.51517382,\n",
       "         74.52622425,  73.57685591,  72.69521721,  71.87667559,\n",
       "         71.11806573,  70.41686023,  69.76985014,  69.17502084,\n",
       "         68.63062012,  68.13642212,  67.69112621,  67.2910669 ,\n",
       "         66.93823612,  66.63263724,  66.36917797,  66.15142124,\n",
       "         65.97923958,  65.84761924,  65.76244835,  65.71797553]])</pre></div></div></li><li class='xr-section-item'><input id='section-0ac2acfa-d96f-4600-a6e6-68de0b67effb' class='xr-section-summary-in' type='checkbox'  checked><label for='section-0ac2acfa-d96f-4600-a6e6-68de0b67effb' class='xr-section-summary' >Coordinates: <span>(2)</span></label><div class='xr-section-inline-details'></div><div class='xr-section-details'><ul class='xr-var-list'><li class='xr-var-item'><div class='xr-var-name'><span class='xr-has-index'>depth</span></div><div class='xr-var-dims'>(depth)</div><div class='xr-var-dtype'>float64</div><div class='xr-var-preview xr-preview'>5.0</div><input id='attrs-a7fa9864-35bc-4acd-b5c7-3b64d3c5a16b' class='xr-var-attrs-in' type='checkbox' ><label for='attrs-a7fa9864-35bc-4acd-b5c7-3b64d3c5a16b' title='Show/Hide attributes'><svg class='icon xr-icon-file-text2'><use xlink:href='#icon-file-text2'></use></svg></label><input id='data-6ef50423-faee-4dcb-be29-f4664892b122' class='xr-var-data-in' type='checkbox'><label for='data-6ef50423-faee-4dcb-be29-f4664892b122' title='Show/Hide data repr'><svg class='icon xr-icon-database'><use xlink:href='#icon-database'></use></svg></label><div class='xr-var-attrs'><dl class='xr-attrs'><dt><span>units :</span></dt><dd>meters</dd></dl></div><div class='xr-var-data'><pre>array([5.])</pre></div></li><li class='xr-var-item'><div class='xr-var-name'><span class='xr-has-index'>lat</span></div><div class='xr-var-dims'>(lat)</div><div class='xr-var-dtype'>float64</div><div class='xr-var-preview xr-preview'>-89.5 -88.5 -87.5 ... 88.5 89.5</div><input id='attrs-6c645bcc-eb95-498e-9af8-f757f150f370' class='xr-var-attrs-in' type='checkbox' ><label for='attrs-6c645bcc-eb95-498e-9af8-f757f150f370' title='Show/Hide attributes'><svg class='icon xr-icon-file-text2'><use xlink:href='#icon-file-text2'></use></svg></label><input id='data-2f68e315-efec-4a92-a657-f8b96edb2621' class='xr-var-data-in' type='checkbox'><label for='data-2f68e315-efec-4a92-a657-f8b96edb2621' title='Show/Hide data repr'><svg class='icon xr-icon-database'><use xlink:href='#icon-database'></use></svg></label><div class='xr-var-attrs'><dl class='xr-attrs'><dt><span>units :</span></dt><dd>degrees</dd></dl></div><div class='xr-var-data'><pre>array([-89.5, -88.5, -87.5, -86.5, -85.5, -84.5, -83.5, -82.5, -81.5, -80.5,\n",
       "       -79.5, -78.5, -77.5, -76.5, -75.5, -74.5, -73.5, -72.5, -71.5, -70.5,\n",
       "       -69.5, -68.5, -67.5, -66.5, -65.5, -64.5, -63.5, -62.5, -61.5, -60.5,\n",
       "       -59.5, -58.5, -57.5, -56.5, -55.5, -54.5, -53.5, -52.5, -51.5, -50.5,\n",
       "       -49.5, -48.5, -47.5, -46.5, -45.5, -44.5, -43.5, -42.5, -41.5, -40.5,\n",
       "       -39.5, -38.5, -37.5, -36.5, -35.5, -34.5, -33.5, -32.5, -31.5, -30.5,\n",
       "       -29.5, -28.5, -27.5, -26.5, -25.5, -24.5, -23.5, -22.5, -21.5, -20.5,\n",
       "       -19.5, -18.5, -17.5, -16.5, -15.5, -14.5, -13.5, -12.5, -11.5, -10.5,\n",
       "        -9.5,  -8.5,  -7.5,  -6.5,  -5.5,  -4.5,  -3.5,  -2.5,  -1.5,  -0.5,\n",
       "         0.5,   1.5,   2.5,   3.5,   4.5,   5.5,   6.5,   7.5,   8.5,   9.5,\n",
       "        10.5,  11.5,  12.5,  13.5,  14.5,  15.5,  16.5,  17.5,  18.5,  19.5,\n",
       "        20.5,  21.5,  22.5,  23.5,  24.5,  25.5,  26.5,  27.5,  28.5,  29.5,\n",
       "        30.5,  31.5,  32.5,  33.5,  34.5,  35.5,  36.5,  37.5,  38.5,  39.5,\n",
       "        40.5,  41.5,  42.5,  43.5,  44.5,  45.5,  46.5,  47.5,  48.5,  49.5,\n",
       "        50.5,  51.5,  52.5,  53.5,  54.5,  55.5,  56.5,  57.5,  58.5,  59.5,\n",
       "        60.5,  61.5,  62.5,  63.5,  64.5,  65.5,  66.5,  67.5,  68.5,  69.5,\n",
       "        70.5,  71.5,  72.5,  73.5,  74.5,  75.5,  76.5,  77.5,  78.5,  79.5,\n",
       "        80.5,  81.5,  82.5,  83.5,  84.5,  85.5,  86.5,  87.5,  88.5,  89.5])</pre></div></li></ul></div></li><li class='xr-section-item'><input id='section-86a7e2e7-dcad-4614-8319-b18212477985' class='xr-section-summary-in' type='checkbox'  ><label for='section-86a7e2e7-dcad-4614-8319-b18212477985' class='xr-section-summary' >Indexes: <span>(2)</span></label><div class='xr-section-inline-details'></div><div class='xr-section-details'><ul class='xr-var-list'><li class='xr-var-item'><div class='xr-index-name'><div>depth</div></div><div class='xr-index-preview'>PandasIndex</div><div></div><input id='index-99ad02c3-c7bd-4e58-89aa-88134b5b3aef' class='xr-index-data-in' type='checkbox'/><label for='index-99ad02c3-c7bd-4e58-89aa-88134b5b3aef' title='Show/Hide index repr'><svg class='icon xr-icon-database'><use xlink:href='#icon-database'></use></svg></label><div class='xr-index-data'><pre>PandasIndex(Index([5.0], dtype=&#x27;float64&#x27;, name=&#x27;depth&#x27;))</pre></div></li><li class='xr-var-item'><div class='xr-index-name'><div>lat</div></div><div class='xr-index-preview'>PandasIndex</div><div></div><input id='index-77c36c35-9c72-4b98-bb6b-335dc924e2d4' class='xr-index-data-in' type='checkbox'/><label for='index-77c36c35-9c72-4b98-bb6b-335dc924e2d4' title='Show/Hide index repr'><svg class='icon xr-icon-database'><use xlink:href='#icon-database'></use></svg></label><div class='xr-index-data'><pre>PandasIndex(Index([-89.5, -88.5, -87.5, -86.5, -85.5, -84.5, -83.5, -82.5, -81.5, -80.5,\n",
       "       ...\n",
       "        80.5,  81.5,  82.5,  83.5,  84.5,  85.5,  86.5,  87.5,  88.5,  89.5],\n",
       "      dtype=&#x27;float64&#x27;, name=&#x27;lat&#x27;, length=180))</pre></div></li></ul></div></li><li class='xr-section-item'><input id='section-5e403090-ed6b-438e-a695-892d2ba2c59e' class='xr-section-summary-in' type='checkbox' disabled ><label for='section-5e403090-ed6b-438e-a695-892d2ba2c59e' class='xr-section-summary'  title='Expand/collapse section'>Attributes: <span>(0)</span></label><div class='xr-section-inline-details'></div><div class='xr-section-details'><dl class='xr-attrs'></dl></div></li></ul></div></div>"
      ],
      "text/plain": [
       "<xarray.DataArray (depth: 1, lat: 180)>\n",
       "array([[ 65.71797533,  65.76244815,  65.84761904,  65.97923937,\n",
       "         66.15142104,  66.36917776,  66.63263704,  66.93823592,\n",
       "         67.2910667 ,  67.69112601,  68.13642192,  68.63061992,\n",
       "         69.17502064,  69.76984994,  70.41686003,  71.11806553,\n",
       "         71.8766754 ,  72.69521702,  73.57685571,  74.52622406,\n",
       "        126.5151735 , 128.64225662, 130.94704321, 133.4799311 ,\n",
       "        136.31700247, 139.35073236, 142.52593606, 145.81221046,\n",
       "        149.18851573, 152.63894184, 156.15081983, 159.71369723,\n",
       "        163.31871561, 166.9582033 , 170.62539457, 174.3142284 ,\n",
       "        178.01919988, 181.73524799, 185.45766933, 189.1820507 ,\n",
       "        192.90421597, 196.62018373, 200.32613334, 204.01837763,\n",
       "        207.69334083, 211.3475408 , 214.97757473, 218.58010762,\n",
       "        222.15186324, 225.68961698, 229.19019037, 232.6504471 ,\n",
       "        236.06729007, 239.43765961, 242.75853253, 246.02692181,\n",
       "        249.23987716, 252.39448586, 255.48787433, 258.51720991,\n",
       "        261.47970311, 264.37261007, 267.19323534, 269.93893481,\n",
       "        272.60711881, 275.19525537, 277.70087357, 280.12156692,\n",
       "        282.45499686, 284.69889616, 286.8510725 , 288.9094118 ,\n",
       "        290.87188171, 292.73653488, 294.50151227, 296.16504627,\n",
       "        297.72546377, 299.18118908, 300.5307467 , 301.77276399,\n",
       "...\n",
       "        301.77276406, 300.53074678, 299.18118916, 297.72546386,\n",
       "        296.16504637, 294.50151238, 292.73653499, 290.87188183,\n",
       "        288.90941193, 286.85107263, 284.6988963 , 282.454997  ,\n",
       "        280.12156707, 277.70087372, 275.19525553, 272.60711897,\n",
       "        269.93893498, 267.19323552, 264.37261025, 261.4797033 ,\n",
       "        258.51721011, 255.48787453, 252.39448606, 249.23987736,\n",
       "        246.02692203, 242.75853274, 239.43765984, 236.06729029,\n",
       "        232.65044733, 229.19019061, 225.68961722, 222.15186349,\n",
       "        218.58010787, 214.97757498, 211.34754106, 207.69334109,\n",
       "        204.01837789, 200.32613361, 196.620184  , 192.90421625,\n",
       "        189.18205098, 185.45766961, 181.73524828, 178.01920017,\n",
       "        174.31422869, 170.62539486, 166.95820359, 163.31871591,\n",
       "        159.71369753, 156.15082013, 152.63894214, 149.18851604,\n",
       "        145.81221077, 142.52593637, 139.35073267, 136.31700278,\n",
       "        133.47993141, 130.94704352, 128.64225694, 126.51517382,\n",
       "         74.52622425,  73.57685591,  72.69521721,  71.87667559,\n",
       "         71.11806573,  70.41686023,  69.76985014,  69.17502084,\n",
       "         68.63062012,  68.13642212,  67.69112621,  67.2910669 ,\n",
       "         66.93823612,  66.63263724,  66.36917797,  66.15142124,\n",
       "         65.97923958,  65.84761924,  65.76244835,  65.71797553]])\n",
       "Coordinates:\n",
       "  * depth    (depth) float64 5.0\n",
       "  * lat      (lat) float64 -89.5 -88.5 -87.5 -86.5 -85.5 ... 86.5 87.5 88.5 89.5"
      ]
     },
     "execution_count": 10,
     "metadata": {},
     "output_type": "execute_result"
    }
   ],
   "source": [
    "model1.ASR.to_xarray()"
   ]
  },
  {
   "cell_type": "markdown",
   "metadata": {},
   "source": [
    "There is a built-in utility to take properly area-weighted global averages!"
   ]
  },
  {
   "cell_type": "markdown",
   "metadata": {},
   "source": [
    "This gives the net global energy imbalance:"
   ]
  },
  {
   "cell_type": "code",
   "execution_count": 11,
   "metadata": {
    "tags": []
   },
   "outputs": [
    {
     "data": {
      "text/plain": [
       "array(0.02589604)"
      ]
     },
     "execution_count": 11,
     "metadata": {},
     "output_type": "execute_result"
    }
   ],
   "source": [
    "climlab.global_mean(model1.ASR - model1.OLR)"
   ]
  },
  {
   "cell_type": "markdown",
   "metadata": {},
   "source": [
    "Alternative method:"
   ]
  },
  {
   "cell_type": "code",
   "execution_count": 12,
   "metadata": {
    "scrolled": true,
    "tags": []
   },
   "outputs": [
    {
     "data": {
      "text/plain": [
       "array(0.02589604)"
      ]
     },
     "execution_count": 12,
     "metadata": {},
     "output_type": "execute_result"
    }
   ],
   "source": [
    "climlab.global_mean(model1.net_radiation)"
   ]
  },
  {
   "cell_type": "markdown",
   "metadata": {},
   "source": [
    "Since it's not fully equilibrated yet,can integrate it out a little longer"
   ]
  },
  {
   "cell_type": "code",
   "execution_count": 13,
   "metadata": {
    "tags": []
   },
   "outputs": [
    {
     "name": "stdout",
     "output_type": "stream",
     "text": [
      "Integrating for 450 steps, 1826.2110000000002 days, or 5 years.\n",
      "Total elapsed time is 9.999999999999863 years.\n",
      "1.2815863481428397e-05\n"
     ]
    },
    {
     "data": {
      "image/png": "[encoded data removed]",
      "text/plain": [
       "<Figure size 800x1000 with 3 Axes>"
      ]
     },
     "metadata": {},
     "output_type": "display_data"
    }
   ],
   "source": [
    "# Integrate out to equilibrium.\n",
    "model1.integrate_years(5)\n",
    "#  Check for energy balance\n",
    "print(climlab.global_mean(model1.net_radiation))\n",
    "f = ebm_plot(model1)"
   ]
  },
  {
   "cell_type": "markdown",
   "metadata": {},
   "source": [
    "Notes:\n",
    "SW is the shortwave radiation which is higher at the equator because it is more direct and lower at the poles because the sunlight is less direct. LW is longwave radiation which is greatest at the poles because they lose the most heat. The tropics and equator absorb a lot of solar radiation. The net radiation is SW - LW. Dyn is dynamics which is the convergence of the heat transport curve. It fights against the radiation, so it tries to warm the poles at cool the tropics. \n"
   ]
  },
  {
   "cell_type": "markdown",
   "metadata": {},
   "source": [
    "Diagnostic that tells us the latitude of the ice edge:"
   ]
  },
  {
   "cell_type": "code",
   "execution_count": 14,
   "metadata": {
    "tags": []
   },
   "outputs": [
    {
     "data": {
      "text/plain": [
       "array([-70.,  70.])"
      ]
     },
     "execution_count": 14,
     "metadata": {},
     "output_type": "execute_result"
    }
   ],
   "source": [
    "model1.icelat"
   ]
  },
  {
   "cell_type": "markdown",
   "metadata": {},
   "source": [
    "This model is tuned up to reasonable \"present-day\" conditions."
   ]
  },
  {
   "cell_type": "markdown",
   "metadata": {},
   "source": [
    "## Polar-amplified warming in the EBM\n",
    "____________"
   ]
  },
  {
   "cell_type": "markdown",
   "metadata": {},
   "source": [
    "Because the model doesn't have a notion of \"atmospheric composition\", the only way to simulate a CO2 increase, say, is to pass it a change in its OLR budget, which we do by tweaking the $A$ parameter (cf $OLR = A + B \\times T$). The equivalent of doubling CO2 in this model is something like \n",
    "\n",
    "$$ A \\rightarrow A - \\delta A $$\n",
    "\n",
    "where $\\delta A = 4$ W m$^{-2}$."
   ]
  },
  {
   "cell_type": "code",
   "execution_count": 15,
   "metadata": {
    "tags": []
   },
   "outputs": [
    {
     "data": {
      "text/plain": [
       "210"
      ]
     },
     "execution_count": 15,
     "metadata": {},
     "output_type": "execute_result"
    }
   ],
   "source": [
    "model1.subprocess['LW'].A"
   ]
  },
  {
   "cell_type": "code",
   "execution_count": 16,
   "metadata": {
    "tags": []
   },
   "outputs": [
    {
     "data": {
      "image/png": "[encoded data removed]",
      "text/plain": [
       "<Figure size 800x600 with 2 Axes>"
      ]
     },
     "metadata": {},
     "output_type": "display_data"
    }
   ],
   "source": [
    "plt.style.use('seaborn-v0_8-whitegrid')\n",
    "deltaA = 1\n",
    "\n",
    "#  This is a very handy way to \"clone\" an existing model:\n",
    "model2 = climlab.process_like(model1)\n",
    "\n",
    "#  Now change the longwave parameter:\n",
    "model2.subprocess['LW'].A = param['A'] - deltaA\n",
    "#  and integrate out to equilibrium again\n",
    "model2.integrate_years(5, verbose=False)\n",
    "plt.close('all')\n",
    "\n",
    "fig, a1 = plt.subplots(1,1,figsize=(8,6))\n",
    "a1.plot(model1.lat, model1.Ts, label=r'$1 \\times CO_2$',zorder=2)\n",
    "a1.plot(model2.lat, model2.Ts, label=r'$2 \\times CO_2$',zorder=1)\n",
    "a1.set_ylabel('Temperature (C)');\n",
    "a2 = a1.twinx()\n",
    "dT = model2.Ts-model1.Ts # extract temp difference\n",
    "dTm = climlab.global_mean(dT)\n",
    "a2.plot(model1.lat, dT, color = 'gray', zorder =0,\n",
    "        label=r'$\\Delta T (2 \\times CO_2 - 1 \\times CO_2)$')\n",
    "a2.axhline(y=dTm,xmin=model1.lat.min(),xmax=model1.lat.max(),\n",
    "           color = 'black',ls='--',label='global mean $\\Delta T$')\n",
    "a2.set_ylabel(r'$\\Delta T$ (C)'); a1.set_ylim(-20,35)\n",
    "a2.grid()\n",
    "legend_1 = a1.legend(shadow=True,fancybox=True,framealpha=0.9,frameon=True,loc='center'); \n",
    "legend_1.remove()\n",
    "a2.legend(shadow=True,fancybox=True,framealpha=0.9,frameon=True,loc='lower center')\n",
    "a2.add_artist(legend_1)\n",
    "a2.set_ylim(0,10)\n",
    "fig.savefig(\"polar_amplification.png\",dpi=300)\n",
    "plt.show()"
   ]
  },
  {
   "cell_type": "code",
   "execution_count": 17,
   "metadata": {
    "scrolled": true,
    "tags": []
   },
   "outputs": [
    {
     "data": {
      "text/plain": [
       "Field(3.08621171)"
      ]
     },
     "execution_count": 17,
     "metadata": {},
     "output_type": "execute_result"
    }
   ],
   "source": [
    "dT.max()/dT.min()"
   ]
  },
  {
   "cell_type": "markdown",
   "metadata": {},
   "source": [
    "Also, the current ice conditions are:"
   ]
  },
  {
   "cell_type": "code",
   "execution_count": 18,
   "metadata": {
    "tags": []
   },
   "outputs": [
    {
     "name": "stdout",
     "output_type": "stream",
     "text": [
      "Ice latitude: 74.00; Ice area: 0.04\n"
     ]
    }
   ],
   "source": [
    "ice_cond = (model2.icelat[1], model2.ice_area)\n",
    "print(\"Ice latitude: {:3.2f}; Ice area: {:3.2f}\".format(*ice_cond))"
   ]
  },
  {
   "cell_type": "code",
   "execution_count": 52,
   "metadata": {
    "tags": []
   },
   "outputs": [
    {
     "data": {
      "image/png": "[encoded data removed]",
      "text/plain": [
       "<Figure size 800x600 with 2 Axes>"
      ]
     },
     "metadata": {},
     "output_type": "display_data"
    }
   ],
   "source": [
    "plt.style.use('seaborn-v0_8-whitegrid')\n",
    "deltaA = 0.157\n",
    "\n",
    "#  This is a very handy way to \"clone\" an existing model:\n",
    "model3 = climlab.process_like(model1)\n",
    "\n",
    "#  Now change the longwave parameter:\n",
    "model3.subprocess['LW'].A = param['A'] - deltaA\n",
    "#  and integrate out to equilibrium again\n",
    "model3.integrate_years(5, verbose=False)\n",
    "plt.close('all')\n",
    "\n",
    "fig, a1 = plt.subplots(1,1,figsize=(8,6))\n",
    "a1.plot(model1.lat, model1.Ts, label=r'Normal $CO_2$',zorder=2)\n",
    "a1.plot(model3.lat, model3.Ts, label=r'Trending Increase $CO_2$',zorder=1)\n",
    "a1.set_ylabel('Temperature (C)');\n",
    "a1.set_xlabel('Latitude')\n",
    "a2 = a1.twinx()\n",
    "dT = model3.Ts-model1.Ts # extract temp difference\n",
    "dTm = climlab.global_mean(dT)\n",
    "a2.plot(model1.lat, dT, color = 'gray', zorder =0,\n",
    "        label=r'$\\Delta T (Trending - Normal\\ CO_2)$')\n",
    "a2.axhline(y=dTm,xmin=model1.lat.min(),xmax=model1.lat.max(),\n",
    "           color = 'black',ls='--',label='global mean $\\Delta T$')\n",
    "a2.set_ylabel(r'$\\Delta T$ (C)'); a1.set_ylim(-20,35)\n",
    "a2.grid()\n",
    "a1.set_title(\"Temperature with Normal CO2 vs. the Trending Increase\")\n",
    "legend_1 = a1.legend(shadow=True,fancybox=True,framealpha=0.9,frameon=True,loc='center'); \n",
    "legend_1.remove()\n",
    "a2.legend(shadow=True,fancybox=True,framealpha=0.9,frameon=True,loc='lower center')\n",
    "a2.add_artist(legend_1)\n",
    "a2.set_ylim(0,10)\n",
    "fig.savefig(\"polar_amplification.png\",dpi=300)\n",
    "plt.show()"
   ]
  },
  {
   "cell_type": "code",
   "execution_count": 53,
   "metadata": {
    "scrolled": true,
    "tags": []
   },
   "outputs": [
    {
     "data": {
      "text/plain": [
       "Field(3.79899939)"
      ]
     },
     "execution_count": 53,
     "metadata": {},
     "output_type": "execute_result"
    }
   ],
   "source": [
    "dT.max()/dT.min()"
   ]
  },
  {
   "cell_type": "code",
   "execution_count": 54,
   "metadata": {
    "tags": []
   },
   "outputs": [
    {
     "name": "stdout",
     "output_type": "stream",
     "text": [
      "Ice latitude: 71.00; Ice area: 0.05\n"
     ]
    }
   ],
   "source": [
    "ice_cond = (model3.icelat[1], model3.ice_area)\n",
    "print(\"Ice latitude: {:3.2f}; Ice area: {:3.2f}\".format(*ice_cond))"
   ]
  },
  {
   "cell_type": "markdown",
   "metadata": {},
   "source": [
    "What would happen if this double this greenhouse warming (8 W. m$^{-2}$ instead of 4, a case we'll call \"$3 \\times CO_2$\" though it is not strictly true)"
   ]
  },
  {
   "cell_type": "code",
   "execution_count": 37,
   "metadata": {
    "tags": []
   },
   "outputs": [],
   "source": [
    "model3 = climlab.process_like(model1)\n",
    "model3.subprocess['LW'].A = param['A'] - 2*deltaA\n",
    "model3.integrate_years(5, verbose=False) # integrate to equilibrium"
   ]
  },
  {
   "cell_type": "markdown",
   "metadata": {},
   "source": [
    "Now let's plot these 3 EBM solutions on the same plot, together with the temperature difference between model 3 and model 2:"
   ]
  },
  {
   "cell_type": "code",
   "execution_count": 28,
   "metadata": {
    "tags": []
   },
   "outputs": [
    {
     "data": {
      "image/png": "[encoded data removed]",
      "text/plain": [
       "<Figure size 800x600 with 2 Axes>"
      ]
     },
     "metadata": {},
     "output_type": "display_data"
    }
   ],
   "source": [
    "fig, a1 = plt.subplots(1,1,figsize=(8,6))\n",
    "a1.plot(model1.lat, model1.Ts, label=r'$1 \\times CO_2$',zorder=2)\n",
    "a1.plot(model2.lat, model2.Ts, label=r'$2 \\times CO_2$',zorder=1)\n",
    "a1.plot(model3.lat, model3.Ts, label=r'$3 \\times CO_2$',zorder=1)\n",
    "a1.set_ylabel('Temperature (C)');\n",
    "a2 = a1.twinx()\n",
    "dT = model3.Ts-model2.Ts # extract temp difference\n",
    "dTm = climlab.global_mean(dT)\n",
    "a2.plot(model1.lat, dT, color = 'gray', zorder =0,\n",
    "        label=r'$\\Delta T (3 \\times CO_2 - 2 \\times CO_2)$')\n",
    "a2.axhline(y=dTm,xmin=model1.lat.min(),xmax=model1.lat.max(),\n",
    "           color = 'black',ls='--',label='global mean $\\Delta T$')\n",
    "a2.set_ylabel(r'$\\Delta T$ (C)'); a1.set_ylim(-20,35)\n",
    "a2.grid()\n",
    "legend_1 = a1.legend(shadow=True,fancybox=True,framealpha=0.9,frameon=True,loc='center'); \n",
    "legend_1.remove()\n",
    "a2.legend(shadow=True,fancybox=True,framealpha=0.9,frameon=True,loc='lower center')\n",
    "a2.add_artist(legend_1)\n",
    "a2.set_ylim(0,10)\n",
    "plt.show()"
   ]
  },
  {
   "cell_type": "code",
   "execution_count": 20,
   "metadata": {
    "scrolled": true,
    "tags": []
   },
   "outputs": [
    {
     "name": "stdout",
     "output_type": "stream",
     "text": [
      "Ice latitude: -90.00; Ice area: 0.00\n"
     ]
    }
   ],
   "source": [
    "ice_cond = (model3.icelat[0], model3.ice_area)\n",
    "print(\"Ice latitude: {:3.2f}; Ice area: {:3.2f}\".format(*ice_cond))"
   ]
  },
  {
   "cell_type": "code",
   "execution_count": 21,
   "metadata": {
    "scrolled": true,
    "tags": []
   },
   "outputs": [
    {
     "data": {
      "text/plain": [
       "Field(1.00000019)"
      ]
     },
     "execution_count": 21,
     "metadata": {},
     "output_type": "execute_result"
    }
   ],
   "source": [
    "dT.max()/dT.min()"
   ]
  },
  {
   "cell_type": "markdown",
   "metadata": {},
   "source": [
    "Historically EBMs have been used to study the climatic response to a change in the energy output from the Sun. We can do that easily with `climlab`. Let's first what the solar constant is in the model: "
   ]
  },
  {
   "cell_type": "code",
   "execution_count": 22,
   "metadata": {
    "tags": []
   },
   "outputs": [
    {
     "data": {
      "text/plain": [
       "1365.2"
      ]
     },
     "execution_count": 22,
     "metadata": {},
     "output_type": "execute_result"
    }
   ],
   "source": [
    "m = climlab.EBM_annual(num_lat=180, **param)\n",
    "#  The current (default) solar constant, corresponding to present-day conditions:\n",
    "m.subprocess.insolation.S0"
   ]
  },
  {
   "cell_type": "markdown",
   "metadata": {},
   "source": [
    "###  What happens if the sun is dimmed?"
   ]
  },
  {
   "cell_type": "code",
   "execution_count": 23,
   "metadata": {
    "tags": []
   },
   "outputs": [
    {
     "name": "stdout",
     "output_type": "stream",
     "text": [
      "Integrating for 900 steps, 3652.4220000000005 days, or 10.0 years.\n",
      "Total elapsed time is 9.999999999999863 years.\n"
     ]
    },
    {
     "data": {
      "text/plain": [
       "array(1.28158635e-05)"
      ]
     },
     "execution_count": 23,
     "metadata": {},
     "output_type": "execute_result"
    }
   ],
   "source": [
    "m.integrate_years(10.) #  First, get to equilibrium\n",
    "climlab.global_mean(m.net_radiation) #  Check for energy balance"
   ]
  },
  {
   "cell_type": "code",
   "execution_count": 24,
   "metadata": {
    "tags": []
   },
   "outputs": [
    {
     "name": "stdout",
     "output_type": "stream",
     "text": [
      "Ice latitude: -70.00; Ice area: 0.06\n"
     ]
    }
   ],
   "source": [
    "ice_cond = (m.icelat[0], m.ice_area)\n",
    "print(\"Ice latitude: {:3.2f}; Ice area: {:3.2f}\".format(*ice_cond))"
   ]
  },
  {
   "cell_type": "code",
   "execution_count": 25,
   "metadata": {
    "tags": []
   },
   "outputs": [],
   "source": [
    "#  Now make the solar constant smaller:\n",
    "m.subprocess.insolation.S0 = 1300."
   ]
  },
  {
   "cell_type": "code",
   "execution_count": 26,
   "metadata": {
    "tags": []
   },
   "outputs": [
    {
     "name": "stdout",
     "output_type": "stream",
     "text": [
      "Integrating for 900 steps, 3652.4220000000005 days, or 10.0 years.\n",
      "Total elapsed time is 19.99999999999943 years.\n"
     ]
    },
    {
     "data": {
      "text/plain": [
       "array(-0.00013409)"
      ]
     },
     "execution_count": 26,
     "metadata": {},
     "output_type": "execute_result"
    }
   ],
   "source": [
    "#  Integrate to new equilibrium\n",
    "m.integrate_years(10.)\n",
    "#  Check for energy balance\n",
    "climlab.global_mean(m.net_radiation)"
   ]
  },
  {
   "cell_type": "code",
   "execution_count": 27,
   "metadata": {
    "tags": []
   },
   "outputs": [
    {
     "name": "stdout",
     "output_type": "stream",
     "text": [
      "Ice latitude: -54.00; Ice area: 0.19\n"
     ]
    }
   ],
   "source": [
    "ice_cond = (m.icelat[0], m.ice_area)\n",
    "print(\"Ice latitude: {:3.2f}; Ice area: {:3.2f}\".format(*ice_cond))"
   ]
  },
  {
   "cell_type": "code",
   "execution_count": 28,
   "metadata": {
    "tags": []
   },
   "outputs": [],
   "source": [
    "fig, ax1, ax2, ax3 = ebm_plot(m, return_fig=True)\n",
    "fig.suptitle('EBM for $S_0 = $' + str(m.subprocess.insolation.S0),fontweight='bold')\n",
    "ax3.axvline(x=m.icelat[0],color='gray',alpha=0.8,ls=':',label='ice edge')\n",
    "ax3.axvline(x=m.icelat[1],color='gray',alpha=0.8,ls=':')\n",
    "ax3.legend(loc='lower center')\n",
    "fig.tight_layout()"
   ]
  },
  {
   "cell_type": "markdown",
   "metadata": {},
   "source": [
    "Notes: \n",
    "The ice edge is at much lower latitudes (closer to the equator). The divergence of heat transports is trying to balance the shortwave radiatoin. The shortwave radiation changes at the edge of the ice because the ice has a high albedo. "
   ]
  },
  {
   "cell_type": "markdown",
   "metadata": {},
   "source": [
    "###  What happens if $S_0$ is decreased even more?\n"
   ]
  },
  {
   "cell_type": "code",
   "execution_count": 29,
   "metadata": {
    "tags": []
   },
   "outputs": [
    {
     "name": "stdout",
     "output_type": "stream",
     "text": [
      "Integrating for 450 steps, 1826.2110000000002 days, or 5.0 years.\n",
      "Total elapsed time is 24.99999999999979 years.\n"
     ]
    },
    {
     "data": {
      "text/plain": [
       "array(-5.13788963)"
      ]
     },
     "execution_count": 29,
     "metadata": {},
     "output_type": "execute_result"
    }
   ],
   "source": [
    "#  Now make the solar constant smaller:\n",
    "m.subprocess.insolation.S0 = 1200.\n",
    "#  First, get to equilibrium\n",
    "m.integrate_years(5.)\n",
    "#  Check for energy balance\n",
    "climlab.global_mean(m.net_radiation)"
   ]
  },
  {
   "cell_type": "code",
   "execution_count": 30,
   "metadata": {
    "tags": []
   },
   "outputs": [
    {
     "name": "stdout",
     "output_type": "stream",
     "text": [
      "Integrating for 900 steps, 3652.4220000000005 days, or 10.0 years.\n",
      "Total elapsed time is 35.0000000000016 years.\n"
     ]
    },
    {
     "data": {
      "text/plain": [
       "array(-1.25838369e-06)"
      ]
     },
     "execution_count": 30,
     "metadata": {},
     "output_type": "execute_result"
    }
   ],
   "source": [
    "m.integrate_years(10.)\n",
    "#  Check for energy balance\n",
    "climlab.global_mean(m.net_radiation)"
   ]
  },
  {
   "cell_type": "code",
   "execution_count": 31,
   "metadata": {
    "tags": []
   },
   "outputs": [],
   "source": [
    "ebm_plot(m)"
   ]
  },
  {
   "cell_type": "code",
   "execution_count": 32,
   "metadata": {
    "tags": []
   },
   "outputs": [
    {
     "name": "stdout",
     "output_type": "stream",
     "text": [
      "Ice latitude: -0.00; Ice area: 1.00\n"
     ]
    }
   ],
   "source": [
    "ice_cond = (m.icelat[0], m.ice_area)\n",
    "print(\"Ice latitude: {:3.2f}; Ice area: {:3.2f}\".format(*ice_cond))"
   ]
  },
  {
   "cell_type": "markdown",
   "metadata": {},
   "source": [
    "Notes:\n",
    "The ice covers the entire planet now. This is because the temperature is far below freezing (for water)."
   ]
  },
  {
   "cell_type": "markdown",
   "metadata": {},
   "source": [
    "### Now what happens if $S_0$ is set back to its present-day value?"
   ]
  },
  {
   "cell_type": "code",
   "execution_count": 33,
   "metadata": {
    "tags": []
   },
   "outputs": [
    {
     "name": "stdout",
     "output_type": "stream",
     "text": [
      "Integrating for 450 steps, 1826.2110000000002 days, or 5.0 years.\n",
      "Total elapsed time is 40.0000000000025 years.\n"
     ]
    },
    {
     "data": {
      "text/plain": [
       "array(0.00790051)"
      ]
     },
     "execution_count": 33,
     "metadata": {},
     "output_type": "execute_result"
    }
   ],
   "source": [
    "#  Now make the solar constant smaller:\n",
    "m.subprocess.insolation.S0 = 1365.2\n",
    "#  First, get to equilibrium\n",
    "m.integrate_years(5.)\n",
    "#  Check for energy balance\n",
    "climlab.global_mean(m.net_radiation)"
   ]
  },
  {
   "cell_type": "code",
   "execution_count": 34,
   "metadata": {
    "tags": []
   },
   "outputs": [],
   "source": [
    "ebm_plot(m)"
   ]
  },
  {
   "cell_type": "markdown",
   "metadata": {},
   "source": [
    "Notes:\n",
    "The climate is not the same we started with because the planet was already covered in ice, so it has to be a lot warmer in order to get back to the old point. With the previous decrease in solar insolation, we fell of the branch of the bifurcation, so we need to increase solar insolation a lot to get to the other branch."
   ]
  },
  {
   "cell_type": "markdown",
   "metadata": {},
   "source": [
    "The solar insolation needs to reach 1840 in order to get out of snowball Earth. As soon as we reach this point it goes from all ice to no ice."
   ]
  },
  {
   "cell_type": "code",
   "execution_count": 35,
   "metadata": {
    "tags": []
   },
   "outputs": [
    {
     "name": "stdout",
     "output_type": "stream",
     "text": [
      "Integrating for 450 steps, 1826.2110000000002 days, or 5.0 years.\n",
      "Total elapsed time is 45.0000000000034 years.\n",
      "Integrating for 900 steps, 3652.4220000000005 days, or 10.0 years.\n",
      "Total elapsed time is 55.000000000005215 years.\n"
     ]
    },
    {
     "data": {
      "text/plain": [
       "array([-90.,  90.])"
      ]
     },
     "execution_count": 35,
     "metadata": {},
     "output_type": "execute_result"
    }
   ],
   "source": [
    "#  Now make the solar constant smaller:\n",
    "m.subprocess.insolation.S0 =  1840# set a value for the solar constant\n",
    "#  First, get to equilibrium\n",
    "m.integrate_years(5.)\n",
    "#  Check for energy balance\n",
    "climlab.global_mean(m.net_radiation)\n",
    "\n",
    "m.integrate_years(10.)\n",
    "m.icelat"
   ]
  },
  {
   "cell_type": "code",
   "execution_count": 36,
   "metadata": {
    "tags": []
   },
   "outputs": [
    {
     "name": "stdout",
     "output_type": "stream",
     "text": [
      "Integrating for 450 steps, 1826.2110000000002 days, or 5.0 years.\n",
      "Total elapsed time is 60.00000000000612 years.\n",
      "Integrating for 900 steps, 3652.4220000000005 days, or 10.0 years.\n",
      "Total elapsed time is 70.00000000000793 years.\n"
     ]
    },
    {
     "data": {
      "text/plain": [
       "array([-73.,  73.])"
      ]
     },
     "execution_count": 36,
     "metadata": {},
     "output_type": "execute_result"
    }
   ],
   "source": [
    "#  Now make the solar constant smaller:\n",
    "m.subprocess.insolation.S0 =  1365.2# set a value for the solar constant\n",
    "#  First, get to equilibrium\n",
    "m.integrate_years(5.)\n",
    "#  Check for energy balance\n",
    "climlab.global_mean(m.net_radiation)\n",
    "\n",
    "m.integrate_years(10.)\n",
    "m.icelat"
   ]
  },
  {
   "cell_type": "markdown",
   "metadata": {},
   "source": [
    "The ice edge in our model is always where the temperature crosses $T_f = -10^\\circ$C. The system is at **equilibrium** when the temperature is such that there is a balance between ASR, OLR, and heat transport convergence everywhere. \n",
    "\n",
    "Recall that the Sun is a dynamic star that may get brighter or dimmer at different times (in fact it was significantly cooler during early Earth history). That would mean that the solar constant $S_0 = 4Q$ was larger or smaller. We should expect that the temperature (and thus the ice edge) should increase and decrease as we change $S_0$. "
   ]
  },
  {
   "cell_type": "markdown",
   "metadata": {
    "jp-MarkdownHeadingCollapsed": true,
    "tags": []
   },
   "source": [
    "____________\n",
    "\n",
    "## Credits\n",
    "\n",
    "This notebook is based on materials from [The Climate Laboratory](https://brian-rose.github.io/ClimateLaboratoryBook), an open-source textbook developed and maintained by [Brian E. J. Rose](http://www.atmos.albany.edu/facstaff/brose/index.html), University at Albany.\n",
    "\n",
    "It is licensed for free and open consumption under the\n",
    "[Creative Commons Attribution 4.0 International (CC BY 4.0)](https://creativecommons.org/licenses/by/4.0/) license.\n",
    "____________"
   ]
  }
 ],
 "metadata": {
  "kernelspec": {
   "display_name": "Python 3 (ipykernel)",
   "language": "python",
   "name": "python3"
  },
  "language_info": {
   "codemirror_mode": {
    "name": "ipython",
    "version": 3
   },
   "file_extension": ".py",
   "mimetype": "text/x-python",
   "name": "python",
   "nbconvert_exporter": "python",
   "pygments_lexer": "ipython3",
   "version": "3.11.5"
  },
  "toc": {
   "base_numbering": 1,
   "nav_menu": {},
   "number_sections": true,
   "sideBar": true,
   "skip_h1_title": false,
   "title_cell": "Table of Contents",
   "title_sidebar": "Contents",
   "toc_cell": false,
   "toc_position": {},
   "toc_section_display": true,
   "toc_window_display": false
  },
  "varInspector": {
   "cols": {
    "lenName": 16,
    "lenType": 16,
    "lenVar": 40
   },
   "kernels_config": {
    "python": {
     "delete_cmd_postfix": "",
     "delete_cmd_prefix": "del ",
     "library": "var_list.py",
     "varRefreshCmd": "print(var_dic_list())"
    },
    "r": {
     "delete_cmd_postfix": ") ",
     "delete_cmd_prefix": "rm(",
     "library": "var_list.r",
     "varRefreshCmd": "cat(var_dic_list()) "
    }
   },
   "types_to_exclude": [
    "module",
    "function",
    "builtin_function_or_method",
    "instance",
    "_Feature"
   ],
   "window_display": false
  }
 },
 "nbformat": 4,
 "nbformat_minor": 4
}
